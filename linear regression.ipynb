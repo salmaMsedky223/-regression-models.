{
  "nbformat": 4,
  "nbformat_minor": 0,
  "metadata": {
    "colab": {
      "name": "Untitled9.ipynb",
      "provenance": []
    },
    "kernelspec": {
      "display_name": "Python 3",
      "name": "python3"
    },
    "language_info": {
      "name": "python"
    }
  },
  "cells": [
    {
      "cell_type": "code",
      "metadata": {
        "id": "uIzcxtP0a2_F"
      },
      "source": [
        "import numpy as np\n",
        "import pandas as pd \n",
        "import matplotlib.pyplot as plt\n",
        "import seaborn as sns\n",
        "from sklearn.model_selection import train_test_split\n",
        "from sklearn.linear_model import LinearRegression\n",
        "from sklearn.preprocessing import PolynomialFeatures \n",
        "\n",
        "from sklearn.metrics import mean_squared_error\n",
        "from sklearn import metrics\n"
      ],
      "execution_count": 24,
      "outputs": []
    },
    {
      "cell_type": "code",
      "metadata": {
        "colab": {
          "base_uri": "https://localhost:8080/",
          "height": 255
        },
        "id": "dk-QdaP-cBo3",
        "outputId": "adfa1908-bb6f-4ab1-8d80-39d51cf96884"
      },
      "source": [
        " data=pd.read_csv('kc_house_data.csv')\n",
        " data.head(6)"
      ],
      "execution_count": 25,
      "outputs": [
        {
          "output_type": "execute_result",
          "data": {
            "text/html": [
              "<div>\n",
              "<style scoped>\n",
              "    .dataframe tbody tr th:only-of-type {\n",
              "        vertical-align: middle;\n",
              "    }\n",
              "\n",
              "    .dataframe tbody tr th {\n",
              "        vertical-align: top;\n",
              "    }\n",
              "\n",
              "    .dataframe thead th {\n",
              "        text-align: right;\n",
              "    }\n",
              "</style>\n",
              "<table border=\"1\" class=\"dataframe\">\n",
              "  <thead>\n",
              "    <tr style=\"text-align: right;\">\n",
              "      <th></th>\n",
              "      <th>id</th>\n",
              "      <th>date</th>\n",
              "      <th>price</th>\n",
              "      <th>bedrooms</th>\n",
              "      <th>bathrooms</th>\n",
              "      <th>sqft_living</th>\n",
              "      <th>sqft_lot</th>\n",
              "      <th>floors</th>\n",
              "      <th>waterfront</th>\n",
              "      <th>view</th>\n",
              "      <th>condition</th>\n",
              "      <th>grade</th>\n",
              "      <th>sqft_above</th>\n",
              "      <th>sqft_basement</th>\n",
              "      <th>yr_built</th>\n",
              "      <th>yr_renovated</th>\n",
              "      <th>zipcode</th>\n",
              "      <th>lat</th>\n",
              "      <th>long</th>\n",
              "      <th>sqft_living15</th>\n",
              "      <th>sqft_lot15</th>\n",
              "    </tr>\n",
              "  </thead>\n",
              "  <tbody>\n",
              "    <tr>\n",
              "      <th>0</th>\n",
              "      <td>7129300520</td>\n",
              "      <td>20141013T000000</td>\n",
              "      <td>221900.0</td>\n",
              "      <td>3</td>\n",
              "      <td>1.00</td>\n",
              "      <td>1180</td>\n",
              "      <td>5650</td>\n",
              "      <td>1.0</td>\n",
              "      <td>0</td>\n",
              "      <td>0</td>\n",
              "      <td>3</td>\n",
              "      <td>7</td>\n",
              "      <td>1180</td>\n",
              "      <td>0</td>\n",
              "      <td>1955</td>\n",
              "      <td>0</td>\n",
              "      <td>98178</td>\n",
              "      <td>47.5112</td>\n",
              "      <td>-122.257</td>\n",
              "      <td>1340</td>\n",
              "      <td>5650</td>\n",
              "    </tr>\n",
              "    <tr>\n",
              "      <th>1</th>\n",
              "      <td>6414100192</td>\n",
              "      <td>20141209T000000</td>\n",
              "      <td>538000.0</td>\n",
              "      <td>3</td>\n",
              "      <td>2.25</td>\n",
              "      <td>2570</td>\n",
              "      <td>7242</td>\n",
              "      <td>2.0</td>\n",
              "      <td>0</td>\n",
              "      <td>0</td>\n",
              "      <td>3</td>\n",
              "      <td>7</td>\n",
              "      <td>2170</td>\n",
              "      <td>400</td>\n",
              "      <td>1951</td>\n",
              "      <td>1991</td>\n",
              "      <td>98125</td>\n",
              "      <td>47.7210</td>\n",
              "      <td>-122.319</td>\n",
              "      <td>1690</td>\n",
              "      <td>7639</td>\n",
              "    </tr>\n",
              "    <tr>\n",
              "      <th>2</th>\n",
              "      <td>5631500400</td>\n",
              "      <td>20150225T000000</td>\n",
              "      <td>180000.0</td>\n",
              "      <td>2</td>\n",
              "      <td>1.00</td>\n",
              "      <td>770</td>\n",
              "      <td>10000</td>\n",
              "      <td>1.0</td>\n",
              "      <td>0</td>\n",
              "      <td>0</td>\n",
              "      <td>3</td>\n",
              "      <td>6</td>\n",
              "      <td>770</td>\n",
              "      <td>0</td>\n",
              "      <td>1933</td>\n",
              "      <td>0</td>\n",
              "      <td>98028</td>\n",
              "      <td>47.7379</td>\n",
              "      <td>-122.233</td>\n",
              "      <td>2720</td>\n",
              "      <td>8062</td>\n",
              "    </tr>\n",
              "    <tr>\n",
              "      <th>3</th>\n",
              "      <td>2487200875</td>\n",
              "      <td>20141209T000000</td>\n",
              "      <td>604000.0</td>\n",
              "      <td>4</td>\n",
              "      <td>3.00</td>\n",
              "      <td>1960</td>\n",
              "      <td>5000</td>\n",
              "      <td>1.0</td>\n",
              "      <td>0</td>\n",
              "      <td>0</td>\n",
              "      <td>5</td>\n",
              "      <td>7</td>\n",
              "      <td>1050</td>\n",
              "      <td>910</td>\n",
              "      <td>1965</td>\n",
              "      <td>0</td>\n",
              "      <td>98136</td>\n",
              "      <td>47.5208</td>\n",
              "      <td>-122.393</td>\n",
              "      <td>1360</td>\n",
              "      <td>5000</td>\n",
              "    </tr>\n",
              "    <tr>\n",
              "      <th>4</th>\n",
              "      <td>1954400510</td>\n",
              "      <td>20150218T000000</td>\n",
              "      <td>510000.0</td>\n",
              "      <td>3</td>\n",
              "      <td>2.00</td>\n",
              "      <td>1680</td>\n",
              "      <td>8080</td>\n",
              "      <td>1.0</td>\n",
              "      <td>0</td>\n",
              "      <td>0</td>\n",
              "      <td>3</td>\n",
              "      <td>8</td>\n",
              "      <td>1680</td>\n",
              "      <td>0</td>\n",
              "      <td>1987</td>\n",
              "      <td>0</td>\n",
              "      <td>98074</td>\n",
              "      <td>47.6168</td>\n",
              "      <td>-122.045</td>\n",
              "      <td>1800</td>\n",
              "      <td>7503</td>\n",
              "    </tr>\n",
              "    <tr>\n",
              "      <th>5</th>\n",
              "      <td>7237550310</td>\n",
              "      <td>20140512T000000</td>\n",
              "      <td>1225000.0</td>\n",
              "      <td>4</td>\n",
              "      <td>4.50</td>\n",
              "      <td>5420</td>\n",
              "      <td>101930</td>\n",
              "      <td>1.0</td>\n",
              "      <td>0</td>\n",
              "      <td>0</td>\n",
              "      <td>3</td>\n",
              "      <td>11</td>\n",
              "      <td>3890</td>\n",
              "      <td>1530</td>\n",
              "      <td>2001</td>\n",
              "      <td>0</td>\n",
              "      <td>98053</td>\n",
              "      <td>47.6561</td>\n",
              "      <td>-122.005</td>\n",
              "      <td>4760</td>\n",
              "      <td>101930</td>\n",
              "    </tr>\n",
              "  </tbody>\n",
              "</table>\n",
              "</div>"
            ],
            "text/plain": [
              "           id             date      price  ...     long  sqft_living15  sqft_lot15\n",
              "0  7129300520  20141013T000000   221900.0  ... -122.257           1340        5650\n",
              "1  6414100192  20141209T000000   538000.0  ... -122.319           1690        7639\n",
              "2  5631500400  20150225T000000   180000.0  ... -122.233           2720        8062\n",
              "3  2487200875  20141209T000000   604000.0  ... -122.393           1360        5000\n",
              "4  1954400510  20150218T000000   510000.0  ... -122.045           1800        7503\n",
              "5  7237550310  20140512T000000  1225000.0  ... -122.005           4760      101930\n",
              "\n",
              "[6 rows x 21 columns]"
            ]
          },
          "metadata": {
            "tags": []
          },
          "execution_count": 25
        }
      ]
    },
    {
      "cell_type": "markdown",
      "metadata": {
        "id": "-BeWrXnzgr2X"
      },
      "source": [
        "If the yr_built is less than 1989 and the yr_renovated is 0, we delete them"
      ]
    },
    {
      "cell_type": "code",
      "metadata": {
        "colab": {
          "base_uri": "https://localhost:8080/"
        },
        "id": "acHHvwXwfdsI",
        "outputId": "bbc2c843-3b81-4a09-d55b-b3bff9678011"
      },
      "source": [
        "  d1 = data[data[\"yr_built\"]<1989]\n",
        "  d2 = data[data[\"yr_renovated\"]==0]\n",
        "\n",
        "  data[ (data[\"yr_renovated\"] ==0) & (data[\"yr_built\"]<1989) ] = 0\n",
        "\n",
        "  len (pd.merge(d1, d2, on = \"yr_built\", how = \"inner\"))"
      ],
      "execution_count": 26,
      "outputs": [
        {
          "output_type": "execute_result",
          "data": {
            "text/plain": [
              "2962727"
            ]
          },
          "metadata": {
            "tags": []
          },
          "execution_count": 26
        }
      ]
    },
    {
      "cell_type": "code",
      "metadata": {
        "colab": {
          "base_uri": "https://localhost:8080/"
        },
        "id": "FjvZdznTexGy",
        "outputId": "096ceaeb-ed4e-45f7-f076-8ce59a716996"
      },
      "source": [
        "data['yr_built'].describe()"
      ],
      "execution_count": 27,
      "outputs": [
        {
          "output_type": "execute_result",
          "data": {
            "text/plain": [
              "count    21613.000000\n",
              "mean       756.374636\n",
              "std        968.156030\n",
              "min          0.000000\n",
              "25%          0.000000\n",
              "50%          0.000000\n",
              "75%       1997.000000\n",
              "max       2015.000000\n",
              "Name: yr_built, dtype: float64"
            ]
          },
          "metadata": {
            "tags": []
          },
          "execution_count": 27
        }
      ]
    },
    {
      "cell_type": "markdown",
      "metadata": {
        "id": "fLJlgMSlhhbT"
      },
      "source": [
        "histogram of yr_built:"
      ]
    },
    {
      "cell_type": "code",
      "metadata": {
        "colab": {
          "base_uri": "https://localhost:8080/",
          "height": 282
        },
        "id": "BqhK-mjIjB_R",
        "outputId": "efba28a1-183c-4587-e16e-3a92450574cb"
      },
      "source": [
        "s = data[data[\"yr_built\"]>1989]\n",
        "s[\"yr_built\"].hist(bins = 33)"
      ],
      "execution_count": 28,
      "outputs": [
        {
          "output_type": "execute_result",
          "data": {
            "text/plain": [
              "<matplotlib.axes._subplots.AxesSubplot at 0x7fcbae31a290>"
            ]
          },
          "metadata": {
            "tags": []
          },
          "execution_count": 28
        },
        {
          "output_type": "display_data",
          "data": {
            "image/png": "[encoded data removed]",
            "text/plain": [
              "<Figure size 432x288 with 1 Axes>"
            ]
          },
          "metadata": {
            "tags": [],
            "needs_background": "light"
          }
        }
      ]
    },
    {
      "cell_type": "markdown",
      "metadata": {
        "id": "jZQebPwlmhWr"
      },
      "source": [
        "barplot of grade::"
      ]
    },
    {
      "cell_type": "code",
      "metadata": {
        "colab": {
          "base_uri": "https://localhost:8080/",
          "height": 279
        },
        "id": "czt_WsHjlLPc",
        "outputId": "28b00257-5deb-4486-8153-58932ab81346"
      },
      "source": [
        "sns.barplot(y='grade',x='grade',hue='grade',data=data);"
      ],
      "execution_count": 29,
      "outputs": [
        {
          "output_type": "display_data",
          "data": {
            "image/png": "[encoded data removed]",
            "text/plain": [
              "<Figure size 432x288 with 1 Axes>"
            ]
          },
          "metadata": {
            "tags": [],
            "needs_background": "light"
          }
        }
      ]
    },
    {
      "cell_type": "code",
      "metadata": {
        "colab": {
          "base_uri": "https://localhost:8080/"
        },
        "id": "2uPEtxyfoV6i",
        "outputId": "20481c73-15e6-48ec-d693-fb72b4d3c58e"
      },
      "source": [
        "data['bedrooms'].describe()"
      ],
      "execution_count": 30,
      "outputs": [
        {
          "output_type": "execute_result",
          "data": {
            "text/plain": [
              "count    21613.000000\n",
              "mean         1.325221\n",
              "std          1.775830\n",
              "min          0.000000\n",
              "25%          0.000000\n",
              "50%          0.000000\n",
              "75%          3.000000\n",
              "max         11.000000\n",
              "Name: bedrooms, dtype: float64"
            ]
          },
          "metadata": {
            "tags": []
          },
          "execution_count": 30
        }
      ]
    },
    {
      "cell_type": "code",
      "metadata": {
        "colab": {
          "base_uri": "https://localhost:8080/"
        },
        "id": "vU7SAQgWpQZ7",
        "outputId": "5c988168-5a9c-4bad-b62e-ff1dfe0c2fca"
      },
      "source": [
        "data[\"bathrooms\"].describe()"
      ],
      "execution_count": 31,
      "outputs": [
        {
          "output_type": "execute_result",
          "data": {
            "text/plain": [
              "count    21613.000000\n",
              "mean         0.986316\n",
              "std          1.325625\n",
              "min          0.000000\n",
              "25%          0.000000\n",
              "50%          0.000000\n",
              "75%          2.500000\n",
              "max          8.000000\n",
              "Name: bathrooms, dtype: float64"
            ]
          },
          "metadata": {
            "tags": []
          },
          "execution_count": 31
        }
      ]
    },
    {
      "cell_type": "markdown",
      "metadata": {
        "id": "67k3q5OTsmn7"
      },
      "source": [
        "If the number of bedrooms is less than 2 and the number of bathrooms is less than 3, we delete them"
      ]
    },
    {
      "cell_type": "code",
      "metadata": {
        "colab": {
          "base_uri": "https://localhost:8080/"
        },
        "id": "Pe9uvR7griIR",
        "outputId": "05714219-6a93-4c9e-ee44-59a26fe407ba"
      },
      "source": [
        "\n",
        "d5 = data[data[\"bathrooms\"]<3]\n",
        "d6 = data[data[\"bedrooms\"]<2]\n",
        "\n",
        "data[ (data[\"bedrooms\"] <2) & (data[\"bathrooms\"]<3) ] = 0\n",
        "len (pd.merge(d5, d6, on = \"bedrooms\", how = \"inner\"))"
      ],
      "execution_count": 36,
      "outputs": [
        {
          "output_type": "execute_result",
          "data": {
            "text/plain": [
              "39770"
            ]
          },
          "metadata": {
            "tags": []
          },
          "execution_count": 36
        }
      ]
    },
    {
      "cell_type": "code",
      "metadata": {
        "colab": {
          "base_uri": "https://localhost:8080/",
          "height": 264
        },
        "id": "Xcu0yBi4slqz",
        "outputId": "ad17aa80-acd8-487d-da88-d4b8b0c3ab0d"
      },
      "source": [
        "\n",
        "y = np.array([40,20,10, 15])\n",
        "mylabels = [\"3 bd\",\"5 bd\", \"other\",\"2 bd\"]\n",
        "plt.title(\"bedrooms\")\n",
        "plt.pie(y, labels = mylabels)\n",
        "plt.show()"
      ],
      "execution_count": 37,
      "outputs": [
        {
          "output_type": "display_data",
          "data": {
            "image/png": "[encoded data removed]",
            "text/plain": [
              "<Figure size 432x288 with 1 Axes>"
            ]
          },
          "metadata": {
            "tags": []
          }
        }
      ]
    },
    {
      "cell_type": "markdown",
      "metadata": {
        "id": "ZNt9m8mw4Mzl"
      },
      "source": [
        "spilt our dataset to trainset & testset"
      ]
    },
    {
      "cell_type": "code",
      "metadata": {
        "colab": {
          "base_uri": "https://localhost:8080/",
          "height": 541
        },
        "id": "YPJGmOpo25XY",
        "outputId": "2032c8c0-60d9-4d93-9993-b4c0f9672cc1"
      },
      "source": [
        "\n",
        "x=data.iloc[:,2:3].values \n",
        "\n",
        "y=data.iloc[:,3:4].values \n",
        "\n",
        "x_train,x_test,y_train,y_test=train_test_split(x,y,test_size=1/4,random_state=0)\n",
        "#x & y train\n",
        "plt.scatter(x_train,y_train,c='purple') \n",
        "plt.xlabel('x (train)')\n",
        "plt.ylabel('y (train)')\n",
        "plt.show()\n",
        "#x & y test\n",
        "plt.scatter(x_test,y_test,c='tomato')\n",
        "plt.xlabel('x (test)')\n",
        "plt.ylabel('y (test)')\n",
        "plt.show()"
      ],
      "execution_count": 35,
      "outputs": [
        {
          "output_type": "display_data",
          "data": {
            "image/png": "[encoded data removed]",
            "text/plain": [
              "<Figure size 432x288 with 1 Axes>"
            ]
          },
          "metadata": {
            "tags": [],
            "needs_background": "light"
          }
        },
        {
          "output_type": "display_data",
          "data": {
            "image/png": "[encoded data removed]",
            "text/plain": [
              "<Figure size 432x288 with 1 Axes>"
            ]
          },
          "metadata": {
            "tags": [],
            "needs_background": "light"
          }
        }
      ]
    },
    {
      "cell_type": "code",
      "metadata": {
        "id": "OXC1gisN6HVQ",
        "colab": {
          "base_uri": "https://localhost:8080/",
          "height": 282
        },
        "outputId": "3876097c-e6cb-4a9f-c941-4d55184a58da"
      },
      "source": [
        "x = np.array([1, 3, 5, 7])\n",
        "\n",
        "y = np.array([ 6, 3, 9, 5 ])\n",
        "plt.plot(x, y, 'o')\n",
        "\n",
        "\n",
        "m, b = np.polyfit(x, y, 1)\n",
        "\n",
        "plt.plot(x, m*x + b)"
      ],
      "execution_count": 39,
      "outputs": [
        {
          "output_type": "execute_result",
          "data": {
            "text/plain": [
              "[<matplotlib.lines.Line2D at 0x7fcbadfba450>]"
            ]
          },
          "metadata": {
            "tags": []
          },
          "execution_count": 39
        },
        {
          "output_type": "display_data",
          "data": {
            "image/png": "[encoded data removed]",
            "text/plain": [
              "<Figure size 432x288 with 1 Axes>"
            ]
          },
          "metadata": {
            "tags": [],
            "needs_background": "light"
          }
        }
      ]
    },
    {
      "cell_type": "markdown",
      "metadata": {
        "id": "CowdKjpSGY3f"
      },
      "source": [
        "5. Measure the performance of linear regression using the testing set. "
      ]
    },
    {
      "cell_type": "code",
      "metadata": {
        "colab": {
          "base_uri": "https://localhost:8080/",
          "height": 425
        },
        "id": "JgOhonedFRKR",
        "outputId": "6114cea5-2595-491d-a24a-d0b9979a5473"
      },
      "source": [
        "sns.pairplot(data, x_vars=['price','bathrooms','yr_built'], y_vars='bedrooms', size=5, aspect=0.7, kind='reg')"
      ],
      "execution_count": 44,
      "outputs": [
        {
          "output_type": "stream",
          "text": [
            "/usr/local/lib/python3.7/dist-packages/seaborn/axisgrid.py:1969: UserWarning: The `size` parameter has been renamed to `height`; please update your code.\n",
            "  warnings.warn(msg, UserWarning)\n"
          ],
          "name": "stderr"
        },
        {
          "output_type": "execute_result",
          "data": {
            "text/plain": [
              "<seaborn.axisgrid.PairGrid at 0x7fcbadae1150>"
            ]
          },
          "metadata": {
            "tags": []
          },
          "execution_count": 44
        },
        {
          "output_type": "display_data",
          "data": {
            "image/png": "[encoded data removed]",
            "text/plain": [
              "<Figure size 756x360 with 3 Axes>"
            ]
          },
          "metadata": {
            "tags": [],
            "needs_background": "light"
          }
        }
      ]
    },
    {
      "cell_type": "code",
      "metadata": {
        "colab": {
          "base_uri": "https://localhost:8080/"
        },
        "id": "fahoh_zeGtiZ",
        "outputId": "e0206c84-e5bb-423a-b4d9-990e1d3775f1"
      },
      "source": [
        "\n",
        "x=data[[\"bedrooms\",\"bathrooms\"]]\n",
        "y=data[\"price\"].values\n",
        "x_train,x_test,y_train,y_test=train_test_split(x,y,test_size=0.35,random_state=40) \n",
        "\n",
        "model=LinearRegression() \n",
        "model.fit(x_train,y_train) \n",
        "predicted=model.predict(x_test) \n",
        "\n",
        "print(\"MSE\", mean_squared_error(y_test,predicted))\n",
        "print(\"R squared\", metrics.r2_score(y_test,predicted))"
      ],
      "execution_count": 46,
      "outputs": [
        {
          "output_type": "stream",
          "text": [
            "MSE 89030759012.50516\n",
            "R squared 0.3045458246724614\n"
          ],
          "name": "stdout"
        }
      ]
    }
  ]
}